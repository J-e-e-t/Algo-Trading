{
 "cells": [
  {
   "cell_type": "code",
   "execution_count": null,
   "id": "pleased-addiction",
   "metadata": {},
   "outputs": [],
   "source": [
    "import telegram\n",
    "import pandas as pd\n",
    "from selenium import webdriver\n",
    "import numpy as np\n",
    "import schedule\n",
    "import datetime\n",
    "import os\n",
    "from time import sleep"
   ]
  },
  {
   "cell_type": "code",
   "execution_count": null,
   "id": "compressed-bathroom",
   "metadata": {},
   "outputs": [],
   "source": [
    "bot_token = '1886208392:AAE0RvGi62y1jhie6zadUou1vINiFpDMK34'\n",
    "group_id = '@chartink_group'\n",
    "bot = telegram.Bot(token=bot_token)"
   ]
  },
  {
   "cell_type": "code",
   "execution_count": null,
   "id": "dated-gallery",
   "metadata": {},
   "outputs": [],
   "source": [
    "url = 'https://chartink.com/screener/high-volume-stocks'"
   ]
  },
  {
   "cell_type": "code",
   "execution_count": null,
   "id": "accessible-budapest",
   "metadata": {},
   "outputs": [],
   "source": [
    "def get_screened_stocks(url):\n",
    "\n",
    "    driver = webdriver.Chrome(executable_path='/Users/entirety/Desktop/chromedriver')\n",
    "    driver.get(url)\n",
    "    table = pd.read_html(driver.find_element_by_xpath('//*[@id=\"DataTables_Table_0\"]').get_attribute('outerHTML'))\n",
    "    driver.close()\n",
    "    return table[0]"
   ]
  },
  {
   "cell_type": "code",
   "execution_count": null,
   "id": "shared-circuit",
   "metadata": {},
   "outputs": [],
   "source": [
    "def job():\n",
    "    \n",
    "    if os.path.isfile(f'screened_stocks_{datetime.date.today()}.csv'):\n",
    "\n",
    "        earlier_screened_stocks = pd.read_csv(f'screened_stocks_{datetime.date.today()}.csv')\n",
    "        earlier_screened_stocks_list = list(earlier_screened_stocks['Symbol'])\n",
    "\n",
    "        #again scan for screened stocks at sometime if the file .csv of todays date already exists\n",
    "        screened_stocks = get_screened_stocks(url)\n",
    "        screened_stocks_list = list(screened_stocks['Symbol'])\n",
    "\n",
    "        new_screened_stocks_list = []\n",
    "        for stock in screened_stocks_list:\n",
    "            if stock not in earlier_screened_stocks_list:\n",
    "                new_screened_stocks_list.append(stock)\n",
    "\n",
    "        for stock in new_screened_stocks_list:\n",
    "                bot.send_message(chat_id=group_id,text=f'{stock} :: Screened at {datetime.datetime.now()}')\n",
    "\n",
    "        screened_stocks = pd.concat([earlier_screened_stocks,screened_stocks],axis=0)\n",
    "        screened_stocks = screened_stocks.drop_duplicates(subset=['Symbol'])\n",
    "        screened_stocks.to_csv(f'screened_stocks_{datetime.date.today()}.csv',index=False)\n",
    "\n",
    "    else:\n",
    "        screened_stocks = get_screened_stocks(url)\n",
    "        screened_stocks_list = list(screened_stocks['Symbol'])\n",
    "        screened_stocks.to_csv(f'screened_stocks_{datetime.date.today()}.csv',index=False)\n",
    "\n",
    "        for stock in screened_stocks_list:\n",
    "            bot.send_message(chat_id=group_id,text=f'{stock} :: Screened at {datetime.datetime.now()}')"
   ]
  },
  {
   "cell_type": "code",
   "execution_count": null,
   "id": "numeric-address",
   "metadata": {},
   "outputs": [],
   "source": [
    "while True:\n",
    "    \n",
    "    if (datetime.date.today().weekday() != 6) & (datetime.date.today().weekday() != 5):\n",
    "\n",
    "        hours = [9,10,11,12,13,14,15]\n",
    "        minutes = [0,15,30,45]\n",
    "\n",
    "        for hour in hours:\n",
    "            for minute in minutes:\n",
    "                schedule_time = datetime.time(hour,minute)\n",
    "                if (schedule_time >= datetime.time(9,15)) & (schedule_time <= datetime.time(15,15)):\n",
    "                    schedule.every().day.at(str(schedule_time)).do(job)\n",
    "\n",
    "        while True:\n",
    "            schedule.run_pending()\n",
    "            sleep(300)\n",
    "\n",
    "    else:\n",
    "\n",
    "        now_datetime = datetime.datetime.now()\n",
    "        next_datetime = datetime.datetime.combine(datetime.date(now_datetime.year,now_datetime.month,now_datetime.day + 1),datetime.time(9,15))\n",
    "        sleep((next_datetime - now_datetime).seconds)"
   ]
  },
  {
   "cell_type": "markdown",
   "id": "artistic-shell",
   "metadata": {},
   "source": [
    "@yashrj25 :: Twitter, Telegram, Instagram"
   ]
  }
 ],
 "metadata": {
  "kernelspec": {
   "display_name": "Python 3",
   "language": "python",
   "name": "python3"
  },
  "language_info": {
   "codemirror_mode": {
    "name": "ipython",
    "version": 3
   },
   "file_extension": ".py",
   "mimetype": "text/x-python",
   "name": "python",
   "nbconvert_exporter": "python",
   "pygments_lexer": "ipython3",
   "version": "3.8.8"
  }
 },
 "nbformat": 4,
 "nbformat_minor": 5
}
